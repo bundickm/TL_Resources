{
  "nbformat": 4,
  "nbformat_minor": 0,
  "metadata": {
    "colab": {
      "name": "Compiled Code Reviews.ipynb",
      "provenance": []
    },
    "kernelspec": {
      "name": "python3",
      "display_name": "Python 3"
    }
  },
  "cells": [
    {
      "cell_type": "markdown",
      "metadata": {
        "id": "7TBT967dpWRA",
        "colab_type": "text"
      },
      "source": [
        "## Example 1 - Python Conventions"
      ]
    },
    {
      "cell_type": "markdown",
      "metadata": {
        "id": "Mtnuu-QXpfmR",
        "colab_type": "text"
      },
      "source": [
        "### Original"
      ]
    },
    {
      "cell_type": "markdown",
      "metadata": {
        "id": "tIFLb6pepiMw",
        "colab_type": "text"
      },
      "source": [
        "Python convention is to use the underscore (`_`) only when the variable doesn't matter and isn't being used. Since the variable is being used, it should have a descriptive name."
      ]
    },
    {
      "cell_type": "code",
      "metadata": {
        "id": "xJfg7oEjzdjP",
        "colab_type": "code",
        "colab": {}
      },
      "source": [
        "names = df.drop(columns=['Rating', 'ID']).columns.tolist()\n",
        "names.sort()\n",
        "\n",
        "for _ in names:\n",
        "  dfEx = pd.DataFrame(columns=['Rating','Ex'])\n",
        "  dfEx['Rating'] = df['Rating']\n",
        "  dfEx['Ex'] = df[_]\n",
        "  dfEx = dfEx.loc[dfEx['Ex'], :]\n",
        "  print()\n",
        "  print(_)\n",
        "  print(dfEx['Rating'].value_counts())"
      ],
      "execution_count": 0,
      "outputs": []
    },
    {
      "cell_type": "markdown",
      "metadata": {
        "id": "dZF8NMifp2m5",
        "colab_type": "text"
      },
      "source": [
        "### Refactored"
      ]
    },
    {
      "cell_type": "markdown",
      "metadata": {
        "id": "Ip_IvH7Ir6Ue",
        "colab_type": "text"
      },
      "source": [
        "On top of the naming convention, the code can be reduced through the use of groupby."
      ]
    },
    {
      "cell_type": "code",
      "metadata": {
        "id": "aNdbzaGnp99X",
        "colab_type": "code",
        "colab": {}
      },
      "source": [
        "for col in df.columns.drop(['Rating', 'ID']):\n",
        "  print('\\n' + col)\n",
        "  print(df.groupby(col)['Rating'].value_counts()[1])"
      ],
      "execution_count": 0,
      "outputs": []
    },
    {
      "cell_type": "markdown",
      "metadata": {
        "id": "iOvoRCWisOH8",
        "colab_type": "text"
      },
      "source": [
        "## Example 2 - Simplified with Library Methods"
      ]
    },
    {
      "cell_type": "markdown",
      "metadata": {
        "id": "tM1yHA2jseD4",
        "colab_type": "text"
      },
      "source": [
        "### Original"
      ]
    },
    {
      "cell_type": "markdown",
      "metadata": {
        "id": "ia6PNZVWbSNM",
        "colab_type": "text"
      },
      "source": [
        "Student had multiple chunks of code like the one below, using them to manually tune each of the hyperparameters."
      ]
    },
    {
      "cell_type": "code",
      "metadata": {
        "id": "plSmGyk2tAcg",
        "colab_type": "code",
        "colab": {}
      },
      "source": [
        "score2 = score1\n",
        "for _ in range(1,20):\n",
        "  p_loop = make_pipeline(DecisionTreeClassifier(random_state=138, max_depth=_))\n",
        "  p_loop.fit(x_train,y_train)\n",
        "  p_score = p_loop.score(x_val, y_val)\n",
        "  print(_,'\\t',p_score)\n",
        "  if (p_score > score2):\n",
        "    score2 = p_score\n",
        "    print('^^^')"
      ],
      "execution_count": 0,
      "outputs": []
    },
    {
      "cell_type": "markdown",
      "metadata": {
        "id": "WhO047Leuc1V",
        "colab_type": "text"
      },
      "source": [
        "### Refactored"
      ]
    },
    {
      "cell_type": "markdown",
      "metadata": {
        "id": "eHOAR2WywKds",
        "colab_type": "text"
      },
      "source": [
        "Instead of copying and pasting the same code five times to find the best hyperparameters, use `RandomizedSearchCV` or `GridSearchCV`. Both are designed to find the best hyperparameters without you having to manually do it."
      ]
    },
    {
      "cell_type": "code",
      "metadata": {
        "id": "eRqBfpL9tva4",
        "colab_type": "code",
        "colab": {}
      },
      "source": [
        "decision_tree = DecisionTreeClassifier(n_jobs=-1, random_state=138)\n",
        "\n",
        "param_distributions = {'max_depth': range(1, 20),\n",
        "                       'min_samples_split': range(2, 30),\n",
        "                       'min_samples_leaf': range(2, 30),\n",
        "                       'max_leaf_nodes': range(2, 300),\n",
        "                       'min_impurity_decrease': range(0, 300)}\n",
        "\n",
        "search = RandomizedSearchCV(decision_tree, \n",
        "                            param_distributions=param_distributions,\n",
        "                            scoring='accuracy', n_iter=500, n_jobs=-1, cv=5,\n",
        "                            verbose=10, return_train_score=True, \n",
        "                            random_state=42)\n",
        "search.fit(X_train, y_train)\n",
        "\n",
        "print('Training Accuracy Score:', search.best_score_)"
      ],
      "execution_count": 0,
      "outputs": []
    },
    {
      "cell_type": "markdown",
      "metadata": {
        "id": "KLi7sUkkowKQ",
        "colab_type": "text"
      },
      "source": [
        "# Example 3 - Functions for DRY and Readable Code"
      ]
    },
    {
      "cell_type": "markdown",
      "metadata": {
        "id": "ZE5iFDCEqp0J",
        "colab_type": "text"
      },
      "source": [
        "## Original"
      ]
    },
    {
      "cell_type": "markdown",
      "metadata": {
        "id": "EftlGh6FcYN4",
        "colab_type": "text"
      },
      "source": [
        "The `data_wrangle` function is long when it could be cleaned up with small helper functions. In addition, there are quite a few comments that can be removed with descriptive variable and function names, leading to self-commenting code."
      ]
    },
    {
      "cell_type": "code",
      "metadata": {
        "id": "lUdKwvmXm_9h",
        "colab_type": "code",
        "colab": {}
      },
      "source": [
        "def word_count(str):\n",
        "  ''' function used for finding the unique number of words for\n",
        "  each review in the data wrangling function''' \n",
        "\n",
        "  counts = dict()\n",
        "  words = str.split()\n",
        "\n",
        "  for word in words:\n",
        "    if word in counts:\n",
        "      counts[word] += 1\n",
        "    else:\n",
        "      counts[word] = 1\n",
        "    \n",
        "  return len(counts.keys())\n",
        "\n",
        "\n",
        "\n",
        "def data_wrangle(df):\n",
        "  ''' Wrangles the data in specified ways using a copy of the dataframe to \n",
        "  prevent the setting copy warning'''\n",
        "\n",
        "  # set the copy\n",
        "  df = df.copy()\n",
        "\n",
        "  # Renaming columns and dropping redundancy \n",
        "  df = df.rename(columns={\n",
        "    'reviewid':'review_id', 'artist_x':'artist'}).drop(columns=['artist_y'])\n",
        "\n",
        "  # # Datetime format\n",
        "  # df['pub_date'] = pd.to_datetime(df['pub_date'], infer_datetime_format=True)\n",
        "\n",
        "  # dropping the pub_date column instead, since it is extracted into \n",
        "  # weekday, month, and year... this is to help with regression and classification\n",
        "  df = df.drop(columns=['pub_date'])\n",
        "\n",
        "  # Dropping 'url' ... doesn't seem to be worth much for a model\n",
        "  df = df.drop(columns=['url'])\n",
        "\n",
        "  # dropping two null artist rows\n",
        "  df = df[df['artist'].isna() != True]\n",
        "\n",
        "  # dropping 'various artists' to better understand how data is tied to 'artist'\n",
        "  df = df[df['artist'] != 'various artists']\n",
        "\n",
        "  # filling nulls with 'other', 'untitled', and 'unspecified' respectively\n",
        "  df['label'] = df['label'].fillna('other')\n",
        "  df['author_type'] = df['author_type'].fillna('other')\n",
        "  df['title'] = df['title'].fillna('untitled')\n",
        "  df['genre'] = df['genre'].fillna('unspecified')\n",
        "  df['content'] = df['content'].fillna('no content')\n",
        "\n",
        "  # Feature Engineering: Content Length and Content Unique values\n",
        "  df['content_length'] = df['content'].str.len().astype(float)\n",
        "  df['content_unique'] = [word_count(review) for review in df['content']]\n",
        "\n",
        "  # Set 'best_new_music' to yes / no with 'best_new_music_class\n",
        "  df['best_new_music_class'] = df['best_new_music'].map({1:'yes', 0:'no'})\n",
        "\n",
        "  # Where year is null, setting it to the adjacent column value\n",
        "  df['year'] = np.where(df['year'].isna() == True, df['pub_year'], df['year'])\n",
        "\n",
        "  # Feature engineering: mean scores per label and genre (note: could leak)\n",
        "  df['label_mean_score'] = df.groupby('label')['score'].transform('mean')\n",
        "  df['genre_mean_score'] = df.groupby('genre')['score'].transform('mean')\n",
        "  \n",
        "  return df"
      ],
      "execution_count": 0,
      "outputs": []
    },
    {
      "cell_type": "markdown",
      "metadata": {
        "id": "9khtsiX-qvAi",
        "colab_type": "text"
      },
      "source": [
        "## Refactored"
      ]
    },
    {
      "cell_type": "markdown",
      "metadata": {
        "id": "a6z90GZnc_rW",
        "colab_type": "text"
      },
      "source": [
        "- Improved `word_count` through the use of existing methods in the `string` library.\n",
        "- Able to drop the doc strings  and most comments by having descriptive function names\n",
        "- Removed commented out code that had been left in\n",
        "- `wrangle` function becomes much more readable and digestible with various operations compartmentalized in their own functions.\n",
        "- Overall length of the code is shorter even with the line overhead of `def` and `return` in each function, and the additional spacing between functions.\n",
        "- PEP8 conventions enforced"
      ]
    },
    {
      "cell_type": "code",
      "metadata": {
        "id": "J8EcWmd_qwZw",
        "colab_type": "code",
        "colab": {}
      },
      "source": [
        "def unique_word_count(review):\n",
        "  review = review.translate(str.maketrans('', '', string.punctuation)).lower()\n",
        "\n",
        "  return len(set(review.split()))\n",
        "\n",
        "\n",
        "def fill_nulls(df):\n",
        "  df = df.copy()\n",
        "  null_values = {'label': 'other', 'author_type': 'other', 'title': 'untitled',\n",
        "                 'genre': 'unspecified', 'content': 'no content'}\n",
        "  \n",
        "  for column in null_values:\n",
        "    df[column] = df[column].fillna(null_values[column])\n",
        "  \n",
        "  # Where year is null, setting it to pub_year\n",
        "  df['year'] = np.where(df['year'].isna(), df['pub_year'], df['year'])\n",
        "  \n",
        "  return df\n",
        "\n",
        "\n",
        "def filter_for_solo_artists(df):\n",
        "  df = df.copy()\n",
        "  \n",
        "  df = df[df['artist'].notna()]\n",
        "  df = df[df['artist'] != 'various artists']\n",
        "  \n",
        "  return df\n",
        "\n",
        "\n",
        "def engineer_features(df):\n",
        "  df = df.copy()\n",
        "  \n",
        "  df['content_length'] = df['content'].str.len()\n",
        "  df['content_unique'] = df['content'].apply(unique_word_count)\n",
        "  \n",
        "  df['label_mean_score'] = df.groupby('label')['score'].transform('mean')\n",
        "  df['genre_mean_score'] = df.groupby('genre')['score'].transform('mean')\n",
        "  \n",
        "  df['best_new_music_class'] = df['best_new_music'].map({1:'yes', 0:'no'})\n",
        "  \n",
        "  return df\n",
        "\n",
        "\n",
        "def wrangle(df):\n",
        "  df = df.copy()\n",
        "  \n",
        "  df = df.rename(columns={'reviewid': 'review_id', 'artist_x': 'artist'})\n",
        "  \n",
        "  df = fill_nulls(df)\n",
        "  df = filter_for_solo_artists(df)\n",
        "  df = engineer_features(df)\n",
        "  \n",
        "  # Dropping low value, duplicate, and leaky features\n",
        "  drop_features = ['artist_y', 'pub_date', 'url', 'best_new_music']\n",
        "  df = df.drop(columns=drop_features)\n",
        "  \n",
        "  return df"
      ],
      "execution_count": 0,
      "outputs": []
    },
    {
      "cell_type": "markdown",
      "metadata": {
        "id": "MhfhZHUNgv8x",
        "colab_type": "text"
      },
      "source": [
        "# Example 4 - Logical Groupings and Whitespace"
      ]
    },
    {
      "cell_type": "markdown",
      "metadata": {
        "id": "h5LBQVLcgzC9",
        "colab_type": "text"
      },
      "source": [
        "## Original"
      ]
    },
    {
      "cell_type": "markdown",
      "metadata": {
        "id": "e5TqK40Cfmob",
        "colab_type": "text"
      },
      "source": [
        "Student does a decent job of chunking the imports and even has comments to make the chunks even more clear, however there is ordering that can be improved."
      ]
    },
    {
      "cell_type": "code",
      "metadata": {
        "id": "JalxRDE0g1jf",
        "colab_type": "code",
        "colab": {}
      },
      "source": [
        "#number manipulation and plotting imports\n",
        "import pandas as pd\n",
        "import numpy as np\n",
        "!pip install matplotlib==3.1.0\n",
        "import matplotlib.pyplot as plt\n",
        "import seaborn as sns\n",
        "\n",
        "#training imports\n",
        "from sklearn.model_selection import train_test_split\n",
        "!pip install -U pandas-profiling\n",
        "import pandas_profiling\n",
        "!pip install category_encoders\n",
        "import category_encoders as ce\n",
        "from sklearn.impute import SimpleImputer\n",
        "from sklearn.pipeline import make_pipeline\n",
        "from sklearn.ensemble import RandomForestClassifier\n",
        "from sklearn.model_selection import RandomizedSearchCV\n",
        "from xgboost import XGBClassifier\n",
        "\n",
        "#analysis imports\n",
        "from sklearn.metrics import accuracy_score\n",
        "from sklearn.metrics import classification_report\n",
        "%matplotlib inline\n",
        "from sklearn.metrics import confusion_matrix\n",
        "from sklearn.utils.multiclass import unique_labels\n",
        "from sklearn.cluster import KMeans\n",
        "from yellowbrick.cluster import KElbowVisualizer\n",
        "from scipy.stats import randint, uniform\n",
        "!pip install eli5\n",
        "import eli5\n",
        "!pip install pdpbox\n",
        "from pdpbox.pdp import pdp_isolate, pdp_plot\n",
        "from eli5.sklearn import PermutationImportance\n",
        "!pip install shap\n",
        "import shap"
      ],
      "execution_count": 0,
      "outputs": []
    },
    {
      "cell_type": "markdown",
      "metadata": {
        "id": "kMWhXtb4g4CR",
        "colab_type": "text"
      },
      "source": [
        "## Refactored"
      ]
    },
    {
      "cell_type": "markdown",
      "metadata": {
        "id": "nOUmNaCrgQNn",
        "colab_type": "text"
      },
      "source": [
        "- Imports are grouped in chunks like before, but also grouped by library withing the chunks\n",
        "- Moved all installs into a separate cell to prevent rerunning installs\n",
        "- Notebook settings like `%matplotlib inline` are moved to the bottom"
      ]
    },
    {
      "cell_type": "code",
      "metadata": {
        "id": "TiMQyYVBg3Qs",
        "colab_type": "code",
        "colab": {}
      },
      "source": [
        "!pip install shap, eli5, category_encoders, matplotlib==3.1.0\n",
        "!pip install -U pandas-profiling"
      ],
      "execution_count": 0,
      "outputs": []
    },
    {
      "cell_type": "code",
      "metadata": {
        "id": "vv4hdWKIhJCr",
        "colab_type": "code",
        "colab": {}
      },
      "source": [
        "# Number manipulation and plotting imports\n",
        "import numpy as np\n",
        "import pandas as pd\n",
        "import matplotlib.pyplot as plt\n",
        "import seaborn as sns\n",
        "\n",
        "# Training imports\n",
        "from sklearn.impute import SimpleImputer\n",
        "from sklearn.pipeline import make_pipeline\n",
        "from sklearn.ensemble import RandomForestClassifier\n",
        "from sklearn.model_selection import RandomizedSearchCV\n",
        "from sklearn.model_selection import train_test_split\n",
        "from xgboost import XGBClassifier\n",
        "import pandas_profiling\n",
        "import category_encoders as ce\n",
        "\n",
        "# Analysis imports\n",
        "from sklearn.metrics import accuracy_score\n",
        "from sklearn.metrics import classification_report\n",
        "from sklearn.metrics import confusion_matrix\n",
        "from sklearn.utils.multiclass import unique_labels\n",
        "from sklearn.cluster import KMeans\n",
        "from scipy.stats import randint\n",
        "from scipy.stats import uniform\n",
        "from pdpbox.pdp import pdp_isolate\n",
        "from pdpbox.pdp import pdp_plot\n",
        "from yellowbrick.cluster import KElbowVisualizer\n",
        "import eli5\n",
        "import shap\n",
        "\n",
        "%matplotlib inline"
      ],
      "execution_count": 0,
      "outputs": []
    },
    {
      "cell_type": "markdown",
      "metadata": {
        "id": "7wacEMAqhGro",
        "colab_type": "text"
      },
      "source": [
        "## Alternative Refactor"
      ]
    },
    {
      "cell_type": "markdown",
      "metadata": {
        "id": "XF9ZecsYhJIg",
        "colab_type": "text"
      },
      "source": [
        "- Grouped imports to a single line when possible"
      ]
    },
    {
      "cell_type": "code",
      "metadata": {
        "colab_type": "code",
        "id": "WB06rwxxiDFH",
        "colab": {}
      },
      "source": [
        "!pip install shap, eli5, category_encoders, matplotlib==3.1.0\n",
        "!pip install -U pandas-profiling"
      ],
      "execution_count": 0,
      "outputs": []
    },
    {
      "cell_type": "code",
      "metadata": {
        "colab_type": "code",
        "id": "8RoCmsiWhmH3",
        "colab": {}
      },
      "source": [
        "# Number manipulation and plotting imports\n",
        "import numpy as np\n",
        "import pandas as pd\n",
        "import matplotlib.pyplot as plt\n",
        "import seaborn as sns\n",
        "\n",
        "# Training imports\n",
        "from sklearn.impute import SimpleImputer\n",
        "from sklearn.pipeline import make_pipeline\n",
        "from sklearn.ensemble import RandomForestClassifier\n",
        "from sklearn.model_selection import RandomizedSearchCV, train_test_split\n",
        "from xgboost import XGBClassifier\n",
        "import pandas_profiling\n",
        "import category_encoders as ce\n",
        "\n",
        "# Analysis imports\n",
        "from sklearn.metrics import accuracy_score, classification_report,\n",
        "                            confusion_matrix\n",
        "from sklearn.utils.multiclass import unique_labels\n",
        "from sklearn.cluster import KMeans\n",
        "from scipy.stats import randint, uniform\n",
        "from pdpbox.pdp import pdp_isolate, pdp_plot\n",
        "from yellowbrick.cluster import KElbowVisualizer\n",
        "import eli5\n",
        "import shap\n",
        "\n",
        "%matplotlib inline"
      ],
      "execution_count": 0,
      "outputs": []
    },
    {
      "cell_type": "markdown",
      "metadata": {
        "id": "H70nzfqWVtAL",
        "colab_type": "text"
      },
      "source": [
        "# Example 5 - Copy Paste Code"
      ]
    },
    {
      "cell_type": "markdown",
      "metadata": {
        "id": "voziNVf0WJXK",
        "colab_type": "text"
      },
      "source": [
        "## Original"
      ]
    },
    {
      "cell_type": "markdown",
      "metadata": {
        "id": "BCiPQwi6ilzL",
        "colab_type": "text"
      },
      "source": [
        "- Multiple lines repeating the same piece of code with minor variations\n",
        "- Dead code commented out but left in\n",
        "- Functions would improve readability and clarity"
      ]
    },
    {
      "cell_type": "code",
      "metadata": {
        "id": "GSnB7kwbPvi1",
        "colab_type": "code",
        "colab": {}
      },
      "source": [
        "# declare list of columns you want to edit\n",
        "wrangle_col = ['SubjectAge', 'OfficerGender',\n",
        "                'OfficerRace', 'SubjectGender',\n",
        "                'SubjectRace']\n",
        "\n",
        "# create dictionary of bad characters\n",
        "bad_chars = {'/':'', ':':';', ' ':'', 'H':'L'}\n",
        "\n",
        "def wrangle(df):\n",
        "  \n",
        "  df = df.copy()\n",
        "\n",
        "  # strip out leading and trailing spaces\n",
        "  for col in df[wrangle_col]:\n",
        "    df[col] = df[col].str.strip()\n",
        "\n",
        "  # replace un-uniform characters\n",
        "  for col in df[wrangle_col]:\n",
        "    for char in bad_chars:\n",
        "      df[col] = df[col].str.replace('/', '')\n",
        "      df[col] = df[col].str.replace(':', ';')\n",
        "      df[col] = df[col].str.replace(' ', '')\n",
        "      df[col] = df[col].str.replace('H', 'L')\n",
        "      df[col] = df[col].str.replace('OtLer', 'Other')\n",
        "      df[col] = df[col].str.replace('WLITE', 'WHITE')\n",
        "  \n",
        "  # make a list feature of these\n",
        "  # df['OfficerGenderList'] = df['OfficerGender'].str.split(pat=';')\n",
        "\n",
        "  # df['OfficerRaceList'] = df['OfficerRace'].str.split(pat=';')\n",
        "\n",
        "  # pull out month day and year for df\n",
        "  df['year_recorded'] = df['Date'].dt.year\n",
        "  df['month_recorded'] = df['Date'].dt.month\n",
        "  df['day_recorded'] = df['Date'].dt.day\n",
        "  df = df.drop(columns='Date')\n",
        "  df = df.drop(columns='NatureOfStop')\n",
        "  df = df.drop(columns='Notes')\n",
        "  df = df.drop(columns='NumberOfSubjects')\n",
        "\n",
        "  return df"
      ],
      "execution_count": 0,
      "outputs": []
    },
    {
      "cell_type": "markdown",
      "metadata": {
        "id": "OknMYeJlWMWg",
        "colab_type": "text"
      },
      "source": [
        "## Refactored"
      ]
    },
    {
      "cell_type": "markdown",
      "metadata": {
        "id": "v7KTM1FvjTNn",
        "colab_type": "text"
      },
      "source": [
        "- Use lists, loops, and functions to make code DRY\n",
        "- Use helper functions to make the wrangle function more readable and make it clear what is happening."
      ]
    },
    {
      "cell_type": "code",
      "metadata": {
        "id": "MkEJczKEP3F-",
        "colab_type": "code",
        "colab": {}
      },
      "source": [
        "def clean_string_columns(df, columns):\n",
        "  df = df.copy()\n",
        "  replacement_dict = {'/':'', ':':';', ' ':'', \n",
        "                      'H':'L', 'OtLer':'Other', 'WLITE':'WHITE'}\n",
        "  \n",
        "  for col in columns:\n",
        "    df[col] = df[col].str.strip()\n",
        "    for old, new in replacement_dict.items():\n",
        "      df[col] = df[col].str.replace(old, new)\n",
        "  \n",
        "  return df\n",
        "\n",
        "\n",
        "def split_datetime(df):\n",
        "  df = df.copy()\n",
        "  \n",
        "  df['year_recorded'] = df['Date'].dt.year\n",
        "  df['month_recorded'] = df['Date'].dt.month\n",
        "  df['day_recorded'] = df['Date'].dt.day\n",
        "  \n",
        "  return df\n",
        "\n",
        "\n",
        "def wrangle(df):\n",
        "  df = df.copy()\n",
        "  columns_to_clean = ['SubjectAge', 'OfficerGender', 'OfficerRace',\n",
        "                      'SubjectGender', 'SubjectRace']\n",
        "  \n",
        "  df = clean_string_columns(df, columns_to_clean)\n",
        "  df = split_datetime(df)\n",
        "  df = df.drop(columns = ['Date', 'NatureOfStop', 'Notes', 'NumberOfSubjects'])\n",
        "  \n",
        "  return df"
      ],
      "execution_count": 0,
      "outputs": []
    },
    {
      "cell_type": "markdown",
      "metadata": {
        "id": "fMguDcjQkL3B",
        "colab_type": "text"
      },
      "source": [
        "# Example 6 - Understanding Methods Fully"
      ]
    },
    {
      "cell_type": "markdown",
      "metadata": {
        "id": "09IkiKVbmQW8",
        "colab_type": "text"
      },
      "source": [
        "## Original"
      ]
    },
    {
      "cell_type": "markdown",
      "metadata": {
        "id": "uTTKRGsgkYKp",
        "colab_type": "text"
      },
      "source": [
        "- All columns with nulls are listed explicitly\n",
        "- `null_cols` isn't used anywhere else in the code, could have been moved into the function to limit scope\n",
        "- `inplace=True` should be discouraged. Explicit assignment is more universal and is more readable"
      ]
    },
    {
      "cell_type": "code",
      "metadata": {
        "id": "H1Z_TkyEl8hi",
        "colab_type": "code",
        "colab": {}
      },
      "source": [
        "null_cols = ['Closed Date', 'Due Date', 'Descriptor', 'Location Type', 'Incident Zip',\n",
        "             'City', 'Latitude', 'Longitude']\n",
        "\n",
        "def drop_nulls(df_nyc):\n",
        "    for cols in null_cols:\n",
        "        df_nyc = df_nyc.dropna(subset=[null_cols], inplace=True)\n",
        "        \n",
        "    return df_nyc\n",
        "\n",
        "df_nyc = drop_nulls(df_nyc)"
      ],
      "execution_count": 0,
      "outputs": []
    },
    {
      "cell_type": "markdown",
      "metadata": {
        "id": "azMzRI-UmTCb",
        "colab_type": "text"
      },
      "source": [
        "## Refactored"
      ]
    },
    {
      "cell_type": "markdown",
      "metadata": {
        "id": "JZWoglpJlHRj",
        "colab_type": "text"
      },
      "source": [
        "- Knowing how `dropna` works means we don't have to worry about negative interactions with columns that don't have nulls. This allows for a reduction from 10 lines to 1."
      ]
    },
    {
      "cell_type": "code",
      "metadata": {
        "id": "B_0Pk724mfkE",
        "colab_type": "code",
        "colab": {}
      },
      "source": [
        "df_nyc = df_nyc.dropna()"
      ],
      "execution_count": 0,
      "outputs": []
    },
    {
      "cell_type": "markdown",
      "metadata": {
        "id": "hWLdN510mgHg",
        "colab_type": "text"
      },
      "source": [
        "## Example 7 - Visual Cleanliness"
      ]
    },
    {
      "cell_type": "markdown",
      "metadata": {
        "id": "F1Pcy9H2miE7",
        "colab_type": "text"
      },
      "source": [
        "## Original Notebook"
      ]
    },
    {
      "cell_type": "markdown",
      "metadata": {
        "id": "GaLIBJ-c4pQV",
        "colab_type": "text"
      },
      "source": [
        "Presentation matters, graphs should be quick and easy to read but this one has a lot of rows and whitespace. It could also use a title."
      ]
    },
    {
      "cell_type": "code",
      "metadata": {
        "id": "pPnGJTqGlBwA",
        "colab_type": "code",
        "outputId": "d7b70fef-1677-4b1a-e431-04c597830d53",
        "colab": {}
      },
      "source": [
        "train['complaint_type'].value_counts().plot(kind='barh', alpha=0.6, figsize=(15,30))\n",
        "\n",
        "plt.show()"
      ],
      "execution_count": 0,
      "outputs": [
        {
          "output_type": "display_data",
          "data": {
            "image/png": "[encoded data removed]",
            "text/plain": [
              "<Figure size 1080x2160 with 1 Axes>"
            ]
          },
          "metadata": {
            "tags": [],
            "needs_background": "light"
          }
        }
      ]
    },
    {
      "cell_type": "markdown",
      "metadata": {
        "id": "tIwiyaWKm7qB",
        "colab_type": "text"
      },
      "source": [
        "### Refactored"
      ]
    },
    {
      "cell_type": "markdown",
      "metadata": {
        "id": "6QCWaj4Slxv9",
        "colab_type": "text"
      },
      "source": [
        "Filter for top 10 to remove all of the whitespace and results that are uninteresting. Added title to further improve readability and interpretability of the graph."
      ]
    },
    {
      "cell_type": "code",
      "metadata": {
        "id": "SMDmZ9FhhUq3",
        "colab_type": "code",
        "colab": {}
      },
      "source": [
        "top_complaints = train['complaint_type'].value_counts(sort_ascending=False)[:10]\n",
        "top_complaints.plot(kind='barh', alpha=0.6, figsize=(15,30),\n",
        "                    title='Top 10 \"311\" Complaints for NYC')\n",
        "\n",
        "plt.show()"
      ],
      "execution_count": 0,
      "outputs": []
    },
    {
      "cell_type": "markdown",
      "metadata": {
        "id": "yAndajcYmOR1",
        "colab_type": "text"
      },
      "source": [
        "# Example 8 - Descriptive Variable Names"
      ]
    },
    {
      "cell_type": "markdown",
      "metadata": {
        "id": "K-UVAEuYCAup",
        "colab_type": "text"
      },
      "source": [
        "## Original"
      ]
    },
    {
      "cell_type": "markdown",
      "metadata": {
        "id": "q0_bm5YDmZkt",
        "colab_type": "text"
      },
      "source": [
        "Biggest issue is the use of `word` as a variable name when a more descriptive name could be used instead."
      ]
    },
    {
      "cell_type": "code",
      "metadata": {
        "id": "nRpdf7AewE8t",
        "colab_type": "code",
        "colab": {}
      },
      "source": [
        "for word in [\"achilles\", \"knee\", \"concussion\", \"ankle\", \"back\", \"hamstring\", \n",
        "             \"quadriceps\", \"hip\", \"wrist\",  \"neck\", \"calf\", \"foot\", \"hand\", \n",
        "             \"thumb\", \"elbow\", \"shoulder\", \"groin\", \"finger\"]:\n",
        "          just_injuries[word] = just_injuries[\"notes\"].str.contains(word)\n",
        "just_injuries.head()"
      ],
      "execution_count": 0,
      "outputs": []
    },
    {
      "cell_type": "markdown",
      "metadata": {
        "id": "0ujCGoI4CDr2",
        "colab_type": "text"
      },
      "source": [
        "## Refactored"
      ]
    },
    {
      "cell_type": "code",
      "metadata": {
        "id": "C_uKDOVcCGZO",
        "colab_type": "code",
        "colab": {}
      },
      "source": [
        "body_parts = [\"achilles\", \"knee\", \"concussion\", \"ankle\", \"back\", \"hamstring\",\n",
        "              \"quadriceps\", \"hip\", \"wrist\",  \"neck\", \"calf\", \"foot\", \"hand\", \n",
        "              \"thumb\", \"elbow\", \"shoulder\", \"groin\", \"finger\"]\n",
        "\n",
        "for body_part in body_parts:\n",
        "    just_injuries[body_part] = just_injuries[\"notes\"].str.contains(body_part)\n",
        "\n",
        "just_injuries.head()"
      ],
      "execution_count": 0,
      "outputs": []
    },
    {
      "cell_type": "markdown",
      "metadata": {
        "id": "1962mkeymwnf",
        "colab_type": "text"
      },
      "source": [
        "# Example 9"
      ]
    },
    {
      "cell_type": "markdown",
      "metadata": {
        "id": "w-qjQ9j6QbZh",
        "colab_type": "text"
      },
      "source": [
        "## Original\n",
        "- Chunking could be improved\n",
        "- `i` is not a great variable name when we can use a descriptive name in this case\n",
        "- Biggest issue is a formula that is unexplained and not common. This causes a reader to slow down to figure out what the purpose is."
      ]
    },
    {
      "cell_type": "code",
      "metadata": {
        "id": "cX0qTJUB1qZE",
        "colab_type": "code",
        "colab": {}
      },
      "source": [
        "# UPDATE 'date' COLUMN TO WEEK (1-17) ON 'elo' DATASET\n",
        "elo['date'] = pd.to_datetime(elo['date'], format='%Y-%m-%d')\n",
        "\n",
        "def week_calculator(date_list):\n",
        "  week_list = []\n",
        "  week = 0\n",
        "  start = date_list[0]\n",
        "\n",
        "  for i in range(len(date_list)):\n",
        "    if date_list[i] < start + datetime.timedelta(days=7):\n",
        "      week_list.append(week)\n",
        "    else:\n",
        "      week += 1\n",
        "      week_list.append(week)\n",
        "      start = date_list[i]\n",
        "  \n",
        "  return [week_list[i] % 17 + 1 for i in range(len(week_list))]\n",
        "\n",
        "elo['week'] = week_calculator(elo['date'].tolist())\n",
        "elo = elo.drop(['date'], axis=1)"
      ],
      "execution_count": 0,
      "outputs": []
    },
    {
      "cell_type": "markdown",
      "metadata": {
        "id": "oboKLSnyQfKT",
        "colab_type": "text"
      },
      "source": [
        "## Refactored"
      ]
    },
    {
      "cell_type": "markdown",
      "metadata": {
        "id": "w1CwzCHfnkTa",
        "colab_type": "text"
      },
      "source": [
        "- Break the function and other lines of code into two cells\n",
        "- Utilize the flexible functionality of Python for loops to replace `i` with `current_date`\n",
        "- Added comment to explain the mystery numbers and equation"
      ]
    },
    {
      "cell_type": "code",
      "metadata": {
        "id": "K1KcAJp6Qh7W",
        "colab_type": "code",
        "colab": {}
      },
      "source": [
        "def week_calculator(date_list):\n",
        "  week_list = []\n",
        "  week = 0\n",
        "  week_start = date_list[0]\n",
        "\n",
        "  for current_date in date_list:\n",
        "    if current_date < week_start + datetime.timedelta(days=7):\n",
        "      week_list.append(week)\n",
        "    else:\n",
        "      week += 1\n",
        "      week_list.append(week)\n",
        "      week_start = current_date\n",
        "  \n",
        "  # Adjust week to account for season\n",
        "  return [week % 17 + 1 for week in week_list]"
      ],
      "execution_count": 0,
      "outputs": []
    },
    {
      "cell_type": "code",
      "metadata": {
        "id": "3IoXmF3kUX8H",
        "colab_type": "code",
        "colab": {}
      },
      "source": [
        "# UPDATE 'date' COLUMN TO WEEK (1-17) ON 'elo' DATASET\n",
        "elo['date'] = pd.to_datetime(elo['date'], format='%Y-%m-%d')\n",
        "elo['week'] = week_calculator(elo['date'].tolist())\n",
        "elo = elo.drop(['date'], axis=1)"
      ],
      "execution_count": 0,
      "outputs": []
    }
  ]
}