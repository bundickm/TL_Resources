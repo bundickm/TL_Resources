{
  "nbformat": 4,
  "nbformat_minor": 0,
  "metadata": {
    "colab": {
      "name": "Warmup - Functions - Solution Notebook.ipynb",
      "provenance": [],
      "include_colab_link": true
    },
    "kernelspec": {
      "name": "python3",
      "display_name": "Python 3"
    }
  },
  "cells": [
    {
      "cell_type": "markdown",
      "metadata": {
        "id": "view-in-github",
        "colab_type": "text"
      },
      "source": [
        "<a href=\"https://colab.research.google.com/github/bundickm/TL_Resources_and_Answer_Keys/blob/master/Warmup_Solution_Notebooks/Warmup_Functions_Solution_Notebook.ipynb\" target=\"_parent\"><img src=\"https://colab.research.google.com/assets/colab-badge.svg\" alt=\"Open In Colab\"/></a>"
      ]
    },
    {
      "cell_type": "markdown",
      "metadata": {
        "colab_type": "text",
        "id": "waNKrg2-FDhD"
      },
      "source": [
        "## Function Practice"
      ]
    },
    {
      "cell_type": "markdown",
      "metadata": {
        "id": "2FdrAqnS2ZG6",
        "colab_type": "text"
      },
      "source": [
        "### Breakdown\n",
        "Break apart the following code into a couple of small functions. Two rules of thumb:\n",
        "\n",
        "1. If you are repeating yourself with minor variations you can probably put it in a function or a loop.\n",
        "2. Functions should generally do one thing (make a graph, pull html from a webpage, etc.). If you describe the functionality of your function with an \"and\" then you likely can split it into smaller functions. \n",
        "\n",
        "You get better at figuring out what needs to be a function or loop, and finding the right size function with practice."
      ]
    },
    {
      "cell_type": "code",
      "metadata": {
        "id": "uDEAvHF34o4O",
        "colab_type": "code",
        "colab": {}
      },
      "source": [
        "import pandas as pd\n",
        "import matplotlib.pyplot as plt\n",
        "\n",
        "\n",
        "# Read in and verify the dataframe\n",
        "persons = pd.read_csv('https://raw.githubusercontent.com/bundickm/DS-Unit-1-Sprint-1-Dealing-With-Data/master/module4-databackedassertions/persons.csv')\n",
        "\n",
        "# Rename the columns and set the index\n",
        "persons.columns = ['ID','age','weight','exercise(t)']\n",
        "persons = persons.set_index('ID')\n",
        "\n",
        "# Make an exercise vs weight table\n",
        "exercise_bins = pd.cut(persons['exercise(t)'], 5)\n",
        "weight_bins = pd.cut(persons['weight'],10)\n",
        "exercise_vs_weight_table = pd.crosstab(weight_bins, \n",
        "                                       exercise_bins, \n",
        "                                       normalize='columns')\n",
        "\n",
        "# Make an age vs weight table\n",
        "age_bins = pd.cut(persons['age'],10)\n",
        "weight_bins = pd.cut(persons['weight'],10)\n",
        "age_vs_weight_table = pd.crosstab(weight_bins, age_bins, normalize='columns')\n",
        "\n",
        "# Plot the first table\n",
        "exercise_vs_weight_table.plot()\n",
        "plt.title('Exercise vs Weight')\n",
        "plt.show()\n",
        "\n",
        "# Plot the second table\n",
        "age_vs_weight_table.plot()\n",
        "plt.title('Age vs Weight')\n",
        "plt.show()"
      ],
      "execution_count": 0,
      "outputs": []
    },
    {
      "cell_type": "code",
      "metadata": {
        "colab_type": "code",
        "id": "lB6sHSwC3gnc",
        "colab": {}
      },
      "source": [
        "import pandas as pd\n",
        "import matplotlib.pyplot as plt\n",
        "\n",
        "# In this context, turning these first 3 lines of code into a function is not worth it.\n",
        "# However, in longer notebooks, it is sometimes a time saver to reset your dataframe (due to error or other cause)\n",
        "# with a single function call versus scrolling up to where you read in the data or copying and pasting it all down later in the notebook\n",
        "persons = pd.read_csv('https://raw.githubusercontent.com/bundickm/DS-Unit-1-Sprint-1-Dealing-With-Data/master/module4-databackedassertions/persons.csv')\n",
        "persons.columns = ['ID','age','weight','exercise(t)']\n",
        "persons = persons.set_index('ID')\n",
        "\n",
        "# Make an exercise vs weight table\n",
        "exercise_bins = pd.cut(persons['exercise(t)'], 5)  # pd.cut, and pd.crosstab are already functions and a single line,\n",
        "weight_bins = pd.cut(persons['weight'],10)         # we add no value in rewrapping it in another function\n",
        "exercise_vs_weight_table = pd.crosstab(weight_bins, \n",
        "                                       exercise_bins, \n",
        "                                       normalize='columns')\n",
        "\n",
        "# Make an age vs weight table\n",
        "age_bins = pd.cut(persons['age'],10)          \n",
        "weight_bins = pd.cut(persons['weight'],10)\n",
        "age_vs_weight_table = pd.crosstab(weight_bins, age_bins, normalize='columns')\n",
        "\n",
        "def plot_table(table, title):\n",
        "  table.plot()\n",
        "  plt.title(title)\n",
        "  plt.show()\n",
        "\n",
        "# Thanks to the function, now if I want to change styling on all my graphs, I only have to do it in one place, not 2 or more\n",
        "# A new graph only takes a single line of code as well, versus 3 lines before.\n",
        "plot_table(exercise_vs_weight_table, 'Exercise vs Weight')\n",
        "plot_table(age_vs_weight_table, 'Age vs Weight')"
      ],
      "execution_count": 0,
      "outputs": []
    },
    {
      "cell_type": "markdown",
      "metadata": {
        "id": "tR-LekZWA1Mv",
        "colab_type": "text"
      },
      "source": [
        "### Sum Without Current Number\n",
        "Write a function that takes in an array of integers and returns a new array such that each element at index `i` of the new array is the product of all the numbers in the original array except the one at `i`.\n",
        "\n",
        "For example, if our input was `[1, 2, 3, 4, 5]`, the expected output would be `[120, 60, 40, 30, 24]`. If our input was `[3, 2, 1]`, the expected output would be `[2, 3, 6]`."
      ]
    },
    {
      "cell_type": "code",
      "metadata": {
        "id": "S0GWvV_x2He5",
        "colab_type": "code",
        "colab": {}
      },
      "source": [
        "a_list = [1,2,3,4,5]\n",
        "long_list = [1,3,4,5,6,7234,4,534,5,634,45,1,34]\n",
        "empty_list = []"
      ],
      "execution_count": 0,
      "outputs": []
    },
    {
      "cell_type": "markdown",
      "metadata": {
        "id": "ibFfXg8REooF",
        "colab_type": "text"
      },
      "source": [
        "There are many ways to solve most code challenges, so don't worry if your solution looks different from the ones below as long as it results in a correct answer."
      ]
    },
    {
      "cell_type": "markdown",
      "metadata": {
        "id": "W2PHvTmgEWRc",
        "colab_type": "text"
      },
      "source": [
        "#### Solution 1"
      ]
    },
    {
      "cell_type": "code",
      "metadata": {
        "id": "HBHEgfBtBWCB",
        "colab_type": "code",
        "colab": {}
      },
      "source": [
        "def sum_without_current(a_list):  # Define the function with a descriptive name, one parameter \"an array of integers\"\n",
        "  products = []                   # Create an empty list we can add to\n",
        "  for i in range(len(a_list)):    # Loop from 0 to the length of our given list\n",
        "    product = 1                   # Set/reset product to 1 each time we change position in the array\n",
        "    for j in range(len(a_list)):  # Loop from 0 to the length of our given list\n",
        "      if i != j:                  # If j is not our current position\n",
        "        product *= a_list[j]        # Multiply the value at j by our running product value\n",
        "    products.append(product)      # Add product to our list of products\n",
        "  return products                 # Return the list of products"
      ],
      "execution_count": 0,
      "outputs": []
    },
    {
      "cell_type": "code",
      "metadata": {
        "id": "uaMhSLYm2I83",
        "colab_type": "code",
        "outputId": "a1494dea-b3d8-4410-d50d-cfbbfa881c58",
        "colab": {
          "base_uri": "https://localhost:8080/",
          "height": 35
        }
      },
      "source": [
        "sum_without_current(a_list)"
      ],
      "execution_count": 0,
      "outputs": [
        {
          "output_type": "execute_result",
          "data": {
            "text/plain": [
              "[120, 60, 40, 30, 24]"
            ]
          },
          "metadata": {
            "tags": []
          },
          "execution_count": 20
        }
      ]
    },
    {
      "cell_type": "code",
      "metadata": {
        "id": "Nd7dC6s-1OtG",
        "colab_type": "code",
        "colab": {}
      },
      "source": [
        "# Print debugging to trace the function\n",
        "def sum_without_current(a_list):\n",
        "  products = []\n",
        "  for i in range(len(a_list)):\n",
        "    print('\\nList of Products:', products)\n",
        "    product = 1\n",
        "    print('Product Reset to 1')\n",
        "    print('Current Position:', i)\n",
        "    for j in range(len(a_list)):\n",
        "      print('Position j, value to multiply with product:', j)\n",
        "      if i != j:\n",
        "        print('i != j')\n",
        "        product *= a_list[j]\n",
        "        print('Current Product:', product)\n",
        "    products.append(product)\n",
        "  return products"
      ],
      "execution_count": 0,
      "outputs": []
    },
    {
      "cell_type": "code",
      "metadata": {
        "id": "aRIB5OzM2NHb",
        "colab_type": "code",
        "outputId": "b1b28f4d-5a59-4a5f-a414-8aa669bad385",
        "colab": {
          "base_uri": "https://localhost:8080/",
          "height": 1000
        }
      },
      "source": [
        "sum_without_current(a_list)"
      ],
      "execution_count": 0,
      "outputs": [
        {
          "output_type": "stream",
          "text": [
            "\n",
            "List of Products: []\n",
            "Product Reset to 1\n",
            "Current Position: 0\n",
            "Position j, value to multiply with product: 0\n",
            "Position j, value to multiply with product: 1\n",
            "i != j\n",
            "Current Product: 2\n",
            "Position j, value to multiply with product: 2\n",
            "i != j\n",
            "Current Product: 6\n",
            "Position j, value to multiply with product: 3\n",
            "i != j\n",
            "Current Product: 24\n",
            "Position j, value to multiply with product: 4\n",
            "i != j\n",
            "Current Product: 120\n",
            "\n",
            "List of Products: [120]\n",
            "Product Reset to 1\n",
            "Current Position: 1\n",
            "Position j, value to multiply with product: 0\n",
            "i != j\n",
            "Current Product: 1\n",
            "Position j, value to multiply with product: 1\n",
            "Position j, value to multiply with product: 2\n",
            "i != j\n",
            "Current Product: 3\n",
            "Position j, value to multiply with product: 3\n",
            "i != j\n",
            "Current Product: 12\n",
            "Position j, value to multiply with product: 4\n",
            "i != j\n",
            "Current Product: 60\n",
            "\n",
            "List of Products: [120, 60]\n",
            "Product Reset to 1\n",
            "Current Position: 2\n",
            "Position j, value to multiply with product: 0\n",
            "i != j\n",
            "Current Product: 1\n",
            "Position j, value to multiply with product: 1\n",
            "i != j\n",
            "Current Product: 2\n",
            "Position j, value to multiply with product: 2\n",
            "Position j, value to multiply with product: 3\n",
            "i != j\n",
            "Current Product: 8\n",
            "Position j, value to multiply with product: 4\n",
            "i != j\n",
            "Current Product: 40\n",
            "\n",
            "List of Products: [120, 60, 40]\n",
            "Product Reset to 1\n",
            "Current Position: 3\n",
            "Position j, value to multiply with product: 0\n",
            "i != j\n",
            "Current Product: 1\n",
            "Position j, value to multiply with product: 1\n",
            "i != j\n",
            "Current Product: 2\n",
            "Position j, value to multiply with product: 2\n",
            "i != j\n",
            "Current Product: 6\n",
            "Position j, value to multiply with product: 3\n",
            "Position j, value to multiply with product: 4\n",
            "i != j\n",
            "Current Product: 30\n",
            "\n",
            "List of Products: [120, 60, 40, 30]\n",
            "Product Reset to 1\n",
            "Current Position: 4\n",
            "Position j, value to multiply with product: 0\n",
            "i != j\n",
            "Current Product: 1\n",
            "Position j, value to multiply with product: 1\n",
            "i != j\n",
            "Current Product: 2\n",
            "Position j, value to multiply with product: 2\n",
            "i != j\n",
            "Current Product: 6\n",
            "Position j, value to multiply with product: 3\n",
            "i != j\n",
            "Current Product: 24\n",
            "Position j, value to multiply with product: 4\n"
          ],
          "name": "stdout"
        },
        {
          "output_type": "execute_result",
          "data": {
            "text/plain": [
              "[120, 60, 40, 30, 24]"
            ]
          },
          "metadata": {
            "tags": []
          },
          "execution_count": 23
        }
      ]
    },
    {
      "cell_type": "markdown",
      "metadata": {
        "id": "TUbl6VELEcby",
        "colab_type": "text"
      },
      "source": [
        "#### Solution 2"
      ]
    },
    {
      "cell_type": "code",
      "metadata": {
        "id": "cGrrXzgex1jv",
        "colab_type": "code",
        "colab": {}
      },
      "source": [
        "import numpy as np\n",
        "\n",
        "def sum_without_current(a_list):\n",
        "  return [np.prod(a_list[:i]+a_list[i+1:]) # List Comprehension and Slicing to avoid current position\n",
        "          for i in range(len(a_list))]"
      ],
      "execution_count": 0,
      "outputs": []
    },
    {
      "cell_type": "code",
      "metadata": {
        "id": "x2gZmPqI2kVW",
        "colab_type": "code",
        "outputId": "59258470-c309-4f87-bf2c-0db53ea4a084",
        "colab": {
          "base_uri": "https://localhost:8080/",
          "height": 35
        }
      },
      "source": [
        "sum_without_current(a_list)"
      ],
      "execution_count": 0,
      "outputs": [
        {
          "output_type": "execute_result",
          "data": {
            "text/plain": [
              "[120, 60, 40, 30, 24]"
            ]
          },
          "metadata": {
            "tags": []
          },
          "execution_count": 25
        }
      ]
    },
    {
      "cell_type": "markdown",
      "metadata": {
        "id": "9ew5cUnVEeme",
        "colab_type": "text"
      },
      "source": [
        "#### Solution 3"
      ]
    },
    {
      "cell_type": "code",
      "metadata": {
        "id": "TeHApb4H2uif",
        "colab_type": "code",
        "colab": {}
      },
      "source": [
        "def sum_without_current(a_list):\n",
        "  product = np.prod(a_list)                 # Mathy solution - Product at current position is product\n",
        "  return [(product//num) for num in a_list] # of all values divided by value at current position (removes that value from product)"
      ],
      "execution_count": 0,
      "outputs": []
    },
    {
      "cell_type": "code",
      "metadata": {
        "id": "5fAnMvrM2wvC",
        "colab_type": "code",
        "outputId": "e8361644-9cc2-48f2-b71c-c6f882fdecf6",
        "colab": {
          "base_uri": "https://localhost:8080/",
          "height": 35
        }
      },
      "source": [
        "sum_without_current(a_list)"
      ],
      "execution_count": 0,
      "outputs": [
        {
          "output_type": "execute_result",
          "data": {
            "text/plain": [
              "[120, 60, 40, 30, 24]"
            ]
          },
          "metadata": {
            "tags": []
          },
          "execution_count": 28
        }
      ]
    },
    {
      "cell_type": "markdown",
      "metadata": {
        "id": "npUysl8TBW9C",
        "colab_type": "text"
      },
      "source": [
        "# Debugging"
      ]
    },
    {
      "cell_type": "code",
      "metadata": {
        "id": "jwWjSxyTDg7j",
        "colab_type": "code",
        "colab": {}
      },
      "source": [
        "# This function adds a suffix to each string in a list of strings. How can we use print \n",
        "# debugging to verify list_of_strings is a list containing strings, and suffix\n",
        "# is a single string?\n",
        "def foo(list_of_strings, suffix):\n",
        "  new_strings = []\n",
        "  for string in list_of_strings:\n",
        "    return string + suffix\n",
        "  return new_strings"
      ],
      "execution_count": 0,
      "outputs": []
    },
    {
      "cell_type": "code",
      "metadata": {
        "id": "yB4wk1sOFF7c",
        "colab_type": "code",
        "colab": {}
      },
      "source": [
        "def foo(list_of_strings, suffix):\n",
        "  print('Debug, list_of_strings:', list_of_strings)\n",
        "  print('Debug, suffix:', suffix)\n",
        "  new_strings = []\n",
        "  for string in list_of_strings:\n",
        "    return string + suffix\n",
        "  return new_strings"
      ],
      "execution_count": 0,
      "outputs": []
    },
    {
      "cell_type": "code",
      "metadata": {
        "id": "3zuwZ5AlF1-g",
        "colab_type": "code",
        "colab": {}
      },
      "source": [
        "# This function should return a list of strings that are a combination of\n",
        "# the strings in list_of_strings and the suffix string. How can we use print\n",
        "# debugging to figure out whether or not we are getting a list of strings back?\n",
        "def foo(list_of_strings, suffix):\n",
        "  new_strings = []\n",
        "  for string in list_of_strings:\n",
        "    return string + suffix\n",
        "  return new_strings"
      ],
      "execution_count": 0,
      "outputs": []
    },
    {
      "cell_type": "code",
      "metadata": {
        "id": "Q1-rp-vbGu51",
        "colab_type": "code",
        "colab": {}
      },
      "source": [
        "def foo(list_of_strings, suffix):\n",
        "  new_strings = []\n",
        "  for string in list_of_strings:\n",
        "    print('Debug, new_strings:', new_strings)\n",
        "    print('Debug, returning \"string + suffix\":', (string + suffix))\n",
        "    return string + suffix\n",
        "  print('Debug, new_strings:', new_strings)\n",
        "  return new_strings"
      ],
      "execution_count": 0,
      "outputs": []
    },
    {
      "cell_type": "code",
      "metadata": {
        "id": "-hm2hs0eHqpf",
        "colab_type": "code",
        "colab": {}
      },
      "source": [
        "# The below code should print out \"2\" for the length of new_strings. How can\n",
        "# we use print debugging to figure out why we aren't getting that result?\n",
        "def foo(list_of_strings, suffix):\n",
        "  new_strings = []\n",
        "  for string in list_of_strings:\n",
        "    new_strings.append(string + suffix)\n",
        "  return new_strings\n",
        "\n",
        "new_strings = []\n",
        "foo(['hello ', 'hi '], 'world')\n",
        "print('Length of New Strings:', len(new_strings))"
      ],
      "execution_count": 0,
      "outputs": []
    },
    {
      "cell_type": "code",
      "metadata": {
        "id": "wjcBrYdNGy6C",
        "colab_type": "code",
        "outputId": "77d08dce-ce6c-461d-952f-bde08e1eeed5",
        "colab": {
          "base_uri": "https://localhost:8080/",
          "height": 144
        }
      },
      "source": [
        "def foo(list_of_strings, suffix):\n",
        "  new_strings = []\n",
        "  print('Debug, in foo, new_strings:', new_strings)\n",
        "  for string in list_of_strings:\n",
        "    new_strings.append(string + suffix)\n",
        "    print('Debug, in foo, in for loop new_strings:', new_strings)\n",
        "  print('Debug, in foo, returning new_strings:', new_strings)\n",
        "  return new_strings\n",
        "\n",
        "new_strings = []\n",
        "print('Debug, new_strings:', new_strings)\n",
        "foo(['hello ', 'hi '], 'world')\n",
        "print('Debug, new_strings:', new_strings)\n",
        "print('Length of New Strings:', len(new_strings))"
      ],
      "execution_count": 0,
      "outputs": [
        {
          "output_type": "stream",
          "text": [
            "Debug, new_strings: []\n",
            "Debug, in foo, new_strings: []\n",
            "Debug, in foo, in for loop new_strings: ['hello world']\n",
            "Debug, in foo, in for loop new_strings: ['hello world', 'hi world']\n",
            "Debug, in foo, returning new_strings: ['hello world', 'hi world']\n",
            "Debug, new_strings: []\n",
            "Length of New Strings: 0\n"
          ],
          "name": "stdout"
        }
      ]
    }
  ]
}