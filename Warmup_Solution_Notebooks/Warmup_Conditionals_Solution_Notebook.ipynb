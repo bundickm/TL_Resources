{
  "nbformat": 4,
  "nbformat_minor": 0,
  "metadata": {
    "colab": {
      "name": "Warmup - Conditionals - Solution Notebook.ipynb",
      "provenance": [],
      "collapsed_sections": [],
      "include_colab_link": true
    },
    "kernelspec": {
      "name": "python3",
      "display_name": "Python 3"
    }
  },
  "cells": [
    {
      "cell_type": "markdown",
      "metadata": {
        "id": "view-in-github",
        "colab_type": "text"
      },
      "source": [
        "<a href=\"https://colab.research.google.com/github/bundickm/TL_Resources_and_Answer_Keys/blob/master/Warmup_Solution_Notebooks/Warmup_Conditionals_Solution_Notebook.ipynb\" target=\"_parent\"><img src=\"https://colab.research.google.com/assets/colab-badge.svg\" alt=\"Open In Colab\"/></a>"
      ]
    },
    {
      "cell_type": "markdown",
      "metadata": {
        "id": "ZuMaBaSCoSow",
        "colab_type": "text"
      },
      "source": [
        "## If Statement Practice"
      ]
    },
    {
      "cell_type": "markdown",
      "metadata": {
        "id": "-nJWcbY8sMZB",
        "colab_type": "text"
      },
      "source": [
        "### Time\n",
        "\n",
        "Given a time in seconds, convert the value to hours, minutes, and seconds.\n",
        "\n",
        "Example:\n",
        "```python\n",
        "seconds = 18195\n",
        "\n",
        "'Hours = 5'\n",
        "'Minutes = 3'\n",
        "'Seconds = 15'\n",
        "```"
      ]
    },
    {
      "cell_type": "code",
      "metadata": {
        "id": "_0OOULTzupcs",
        "colab_type": "code",
        "colab": {}
      },
      "source": [
        "# Need to use modulo and floor division. If we simply divide we end up with decimals\n",
        "seconds = 12927\n",
        "\n",
        "hours = seconds // 60 // 60 # 60 minutes in an hour, 60 seconds in each minute\n",
        "seconds -= hours * 60 * 60 # Remove the seconds used up for hours. '-=' is a combination of subtraction and the assignment operator: https://python-reference.readthedocs.io/en/latest/docs/operators/subtraction_assignment.html\n",
        "\n",
        "minutes = seconds // 60 # 60 seconds in a minute\n",
        "seconds = seconds % 60 # Any remaining seconds are found in the remainder which is what modulo returns"
      ],
      "execution_count": 0,
      "outputs": []
    },
    {
      "cell_type": "code",
      "metadata": {
        "id": "XAIZVjQmurnD",
        "colab_type": "code",
        "outputId": "c8b12e48-c9bf-4f91-e4df-37c82781be76",
        "colab": {
          "base_uri": "https://localhost:8080/",
          "height": 72
        }
      },
      "source": [
        "print('Hours:', hours)\n",
        "print('Minutes:', minutes)\n",
        "print('Seconds:', seconds)"
      ],
      "execution_count": 0,
      "outputs": [
        {
          "output_type": "stream",
          "text": [
            "Hours: 3\n",
            "Minutes: 35\n",
            "Seconds: 27\n"
          ],
          "name": "stdout"
        }
      ]
    },
    {
      "cell_type": "markdown",
      "metadata": {
        "id": "1my4xT8nocLu",
        "colab_type": "text"
      },
      "source": [
        "### Triangles\n",
        "Given 3 lines, a [triangle can be formed](https://en.wikipedia.org/wiki/Triangle_inequality) if none of the lines is longer than the sum of the other two lines. If the sum of the two shorter lengths equals the third than it is considered a [degenerate triangle](https://www.mathwords.com/d/degenerate.htm). Write an if statement that prints \"Triangle\", \"Degenerate Triangle\", or \"Not a Triangle\" given three lines `a`, `b`, and `c`. Three values are provided but feel free to test your code by changing the values of `a`, `b`, and `c`."
      ]
    },
    {
      "cell_type": "code",
      "metadata": {
        "id": "Yv7hxQsGk8SB",
        "colab_type": "code",
        "colab": {}
      },
      "source": [
        "a = 5\n",
        "b = 5\n",
        "c = 11"
      ],
      "execution_count": 0,
      "outputs": []
    },
    {
      "cell_type": "code",
      "metadata": {
        "id": "Np-ibKL0pSkv",
        "colab_type": "code",
        "outputId": "3e3c2e46-ebdb-4483-90a7-87d4149ec3e1",
        "colab": {
          "base_uri": "https://localhost:8080/",
          "height": 35
        }
      },
      "source": [
        "# Solution 1: Check every combination of 2 of the numbers compared to the third\n",
        "if (a + b < c) or (a + c < b) or (b + c < a): # `Or` because only 1 of the condition needs to be met\n",
        "  print('Not a Triangle')\n",
        "elif (a + b == c) or (a + c == b) or (b + c == a): # If the `if` evaluates `False`, try the `elif`\n",
        "  print('Degenerate Triangle')\n",
        "else: # `if` and `elif` fail, then it must be a Triangle\n",
        "  print('Triangle')"
      ],
      "execution_count": 0,
      "outputs": [
        {
          "output_type": "stream",
          "text": [
            "Not a Triangle\n"
          ],
          "name": "stdout"
        }
      ]
    },
    {
      "cell_type": "code",
      "metadata": {
        "id": "-JUM8dtG5xDO",
        "colab_type": "code",
        "outputId": "726a6deb-0bda-40e3-fde6-4719f86203b0",
        "colab": {
          "base_uri": "https://localhost:8080/",
          "height": 35
        }
      },
      "source": [
        "# Solution 2: Math and native Python functions to avoid checking every combination\n",
        "# sum((a, b, c))                   Gets the sum of all three values\n",
        "# max(a, b, c)                     Gets the largest of the values\n",
        "# (sum((a, b, c)) - max(a, b, c))  Gets the sum of the two shorter sides by removing the longest\n",
        "if (sum((a,b,c)) - max(a, b, c)) < max(a, b, c):\n",
        "  print('Not a Triangle')\n",
        "elif (sum((a,b,c)) - max(a, b, c)) == max(a, b, c):\n",
        "  print('Degenerate Triangle')\n",
        "else:\n",
        "  print('Triangle')"
      ],
      "execution_count": 0,
      "outputs": [
        {
          "output_type": "stream",
          "text": [
            "Not a Triangle\n"
          ],
          "name": "stdout"
        }
      ]
    },
    {
      "cell_type": "markdown",
      "metadata": {
        "id": "D-tdL1YEu3Tj",
        "colab_type": "text"
      },
      "source": [
        "### Evaluate the Expressions\n",
        "Determine whether the statements below are True or False.\n",
        "\n",
        "```python\n",
        "# Statement 1\n",
        "not((5 > 6) and (True != False))\n",
        "\n",
        "# Statement 2\n",
        "x = 5\n",
        "x_is_even = (x % 2 == 0)\n",
        "\n",
        "x_is_even or ((x > 0) and (x < 4))\n",
        "\n",
        "# Statement 3\n",
        "not(not(True))\n",
        "\n",
        "# Statement 4\n",
        "() is not ()\n",
        "\n",
        "# Statement 5\n",
        "'hello' in 'hello world!'\n",
        "```"
      ]
    },
    {
      "cell_type": "code",
      "metadata": {
        "id": "my9Cu8aQwSsR",
        "colab_type": "code",
        "colab": {}
      },
      "source": [
        "# Statement 1: \n",
        "not((5 > 6) and (True != False)) # Original Statement\n",
        "not(False and True) # (5 > 6) is False, (True != False) is True\n",
        "not(False) # (False and True) is False\n",
        "True # not(False) is True\n",
        "\n",
        "# Statement 2\n",
        "x = 5\n",
        "x_is_even = (x % 2 == 0)\n",
        "x_is_even or ((x > 0) and (x < 4)) # Original Statement\n",
        "False or (True and False) # x_is_even is False, (x > 0) is True, (x < 4) is False\n",
        "False or False # (True and False) is False\n",
        "False # (False or False) is False\n",
        "\n",
        "# Statement 3\n",
        "not(not(True)) # Original Statement\n",
        "not(False) # not(True) is False\n",
        "True # not(False) is True\n",
        "\n",
        "# Statement 4\n",
        "() is not () # Empty tuples are equivalent due to something called immutability \n",
        "False        # (can't change, so one memory address is all that is needed for the same thing)\n",
        "\n",
        "[] is not [] # Lists are mutable so this statement would evaluate as True, this \n",
        "             # is part of why `is` can be tricky and cause errors\n",
        "\n",
        "# Statement 5\n",
        "'hello' in 'hello world!' # Original Statement\n",
        "True # Note: The `in` operator when used with strings is case sensistive ('Hello' would return False)"
      ],
      "execution_count": 0,
      "outputs": []
    },
    {
      "cell_type": "markdown",
      "metadata": {
        "colab_type": "text",
        "id": "wlAOMCAsoBvJ"
      },
      "source": [
        "# Debugging"
      ]
    },
    {
      "cell_type": "markdown",
      "metadata": {
        "id": "xYMZIXbWoIjc",
        "colab_type": "text"
      },
      "source": [
        "## Debug Practice"
      ]
    },
    {
      "cell_type": "code",
      "metadata": {
        "colab_type": "code",
        "outputId": "02b8b1e7-150b-44f2-bc6c-7ad561b528c4",
        "id": "6pJ-nJ0foCdO",
        "colab": {
          "base_uri": "https://localhost:8080/",
          "height": 135
        }
      },
      "source": [
        "# A Syntax Error. Notice how Python tells you the line number (1) and \n",
        "# that your Syntax is the issue.\n",
        "x 5"
      ],
      "execution_count": 0,
      "outputs": [
        {
          "output_type": "error",
          "ename": "SyntaxError",
          "evalue": "ignored",
          "traceback": [
            "\u001b[0;36m  File \u001b[0;32m\"<ipython-input-21-07f66c913eb5>\"\u001b[0;36m, line \u001b[0;32m1\u001b[0m\n\u001b[0;31m    x 5\u001b[0m\n\u001b[0m      ^\u001b[0m\n\u001b[0;31mSyntaxError\u001b[0m\u001b[0;31m:\u001b[0m invalid syntax\n"
          ]
        }
      ]
    },
    {
      "cell_type": "code",
      "metadata": {
        "colab_type": "code",
        "outputId": "176d29ee-ba64-4ced-e87c-dafec98a6e7e",
        "id": "6bfmdPahoCKu",
        "colab": {
          "base_uri": "https://localhost:8080/",
          "height": 208
        }
      },
      "source": [
        "# A Runtime Error. Once again Python tells us where the issue is and \n",
        "# what type of error. \"TypeError\" is a runtime error the indicates a \n",
        "# type mismatch, in this case Python doesn't know how to add an integer\n",
        "# and a word together.\n",
        "word = 'hello world'\n",
        "x = word + 5\n",
        "print(x)"
      ],
      "execution_count": 0,
      "outputs": [
        {
          "output_type": "error",
          "ename": "TypeError",
          "evalue": "ignored",
          "traceback": [
            "\u001b[0;31m---------------------------------------------------------------------------\u001b[0m",
            "\u001b[0;31mTypeError\u001b[0m                                 Traceback (most recent call last)",
            "\u001b[0;32m<ipython-input-22-2ee60b5a7594>\u001b[0m in \u001b[0;36m<module>\u001b[0;34m()\u001b[0m\n\u001b[1;32m      1\u001b[0m \u001b[0mword\u001b[0m \u001b[0;34m=\u001b[0m \u001b[0;34m'hello world'\u001b[0m\u001b[0;34m\u001b[0m\u001b[0;34m\u001b[0m\u001b[0m\n\u001b[0;32m----> 2\u001b[0;31m \u001b[0mx\u001b[0m \u001b[0;34m=\u001b[0m \u001b[0mword\u001b[0m \u001b[0;34m+\u001b[0m \u001b[0;36m5\u001b[0m\u001b[0;34m\u001b[0m\u001b[0;34m\u001b[0m\u001b[0m\n\u001b[0m\u001b[1;32m      3\u001b[0m \u001b[0mprint\u001b[0m\u001b[0;34m(\u001b[0m\u001b[0mx\u001b[0m\u001b[0;34m)\u001b[0m\u001b[0;34m\u001b[0m\u001b[0;34m\u001b[0m\u001b[0m\n",
            "\u001b[0;31mTypeError\u001b[0m: must be str, not int"
          ]
        }
      ]
    },
    {
      "cell_type": "code",
      "metadata": {
        "colab_type": "code",
        "outputId": "ac339893-3bbf-47d5-ceb4-5a51ee092030",
        "id": "hfHd8Jy_oB4m",
        "colab": {
          "base_uri": "https://localhost:8080/",
          "height": 35
        }
      },
      "source": [
        "# A Semantic Error. I've told the computer to print \"Go!\" on 3 but it doesn't\n",
        "# know that I mean the number 3. The code compiles and runs but will never do\n",
        "# what I wanted it to do.\n",
        "for i in range(5):\n",
        "  if i == 'three':\n",
        "    print('Go!')\n",
        "    break\n",
        "else:\n",
        "  print('Race Cancelled')"
      ],
      "execution_count": 0,
      "outputs": [
        {
          "output_type": "stream",
          "text": [
            "Race Cancelled\n"
          ],
          "name": "stdout"
        }
      ]
    },
    {
      "cell_type": "markdown",
      "metadata": {
        "id": "tw_lG572kunU",
        "colab_type": "text"
      },
      "source": [
        "### Correct each of the errors above\n",
        "How you correct errors is dependent on what you expect the end result to be, so don't worry too much about the difference between your solution and the solutions below as long as they work as you expected."
      ]
    },
    {
      "cell_type": "code",
      "metadata": {
        "id": "lXYrK75vjbD8",
        "colab_type": "code",
        "colab": {}
      },
      "source": [
        "# Syntax Error\n",
        "x = 5 # Need to add an equal sign so it follows the language rules Python expects"
      ],
      "execution_count": 0,
      "outputs": []
    },
    {
      "cell_type": "code",
      "metadata": {
        "id": "filUYPLvkwqS",
        "colab_type": "code",
        "outputId": "1c41afad-f624-40db-c589-7bbf62a62657",
        "colab": {
          "base_uri": "https://localhost:8080/",
          "height": 35
        }
      },
      "source": [
        "# Runtime Error\n",
        "word = 'hello world'\n",
        "x = word + str(5) # We can convert the numeric to a string with typecasting\n",
        "print(x)"
      ],
      "execution_count": 0,
      "outputs": [
        {
          "output_type": "stream",
          "text": [
            "hello world5\n"
          ],
          "name": "stdout"
        }
      ]
    },
    {
      "cell_type": "code",
      "metadata": {
        "id": "fgX3WRGskw0Q",
        "colab_type": "code",
        "outputId": "97c285ee-ccdc-46c3-b7a6-31c7c3ec088d",
        "colab": {
          "base_uri": "https://localhost:8080/",
          "height": 35
        }
      },
      "source": [
        "# Semantic Error\n",
        "for i in range(5):\n",
        "  if i == 3: # Simply change the string 'three' to numeric\n",
        "    print('Go!')\n",
        "    break\n",
        "else:\n",
        "  print('Race Cancelled')"
      ],
      "execution_count": 0,
      "outputs": [
        {
          "output_type": "stream",
          "text": [
            "Go!\n"
          ],
          "name": "stdout"
        }
      ]
    },
    {
      "cell_type": "markdown",
      "metadata": {
        "id": "m0JidmLXkxMx",
        "colab_type": "text"
      },
      "source": [
        "### Write code snippets that produce each of the 3 Error Types"
      ]
    },
    {
      "cell_type": "code",
      "metadata": {
        "id": "PAwcRXiZk1tx",
        "colab_type": "code",
        "outputId": "2d91e989-16f2-4c35-c0fe-eebb942795be",
        "colab": {
          "base_uri": "https://localhost:8080/",
          "height": 135
        }
      },
      "source": [
        "# Create a syntax error\n",
        "if 5 = 5 # Any sort of incomplete or incorrect statement should yield a syntax error"
      ],
      "execution_count": 0,
      "outputs": [
        {
          "output_type": "error",
          "ename": "SyntaxError",
          "evalue": "ignored",
          "traceback": [
            "\u001b[0;36m  File \u001b[0;32m\"<ipython-input-4-de6267d32bc2>\"\u001b[0;36m, line \u001b[0;32m1\u001b[0m\n\u001b[0;31m    if 5 = 5\u001b[0m\n\u001b[0m         ^\u001b[0m\n\u001b[0;31mSyntaxError\u001b[0m\u001b[0;31m:\u001b[0m invalid syntax\n"
          ]
        }
      ]
    },
    {
      "cell_type": "code",
      "metadata": {
        "id": "37Zv3psvk1wm",
        "colab_type": "code",
        "outputId": "ebc5494b-1054-4ade-f1e5-2dec90c13a91",
        "colab": {
          "base_uri": "https://localhost:8080/",
          "height": 244
        }
      },
      "source": [
        "# Runtime Error\n",
        "4 in '4' # Runtime errors occur when the syntax is correct but ultimately can't \n",
        "         # be performed due to a mismatch between variables or objects and what\n",
        "         # you are trying to do with them. In this case, you get a runtime error\n",
        "         # because it can't perform the `in` operator between an int and a string.\n",
        "         # We could verify it is a runtime error and not syntax by placing a print\n",
        "         # statement before the problem line, if the print executes then we know\n",
        "         # Python crashed in runtime (while running)"
      ],
      "execution_count": 0,
      "outputs": [
        {
          "output_type": "error",
          "ename": "TypeError",
          "evalue": "ignored",
          "traceback": [
            "\u001b[0;31m---------------------------------------------------------------------------\u001b[0m",
            "\u001b[0;31mTypeError\u001b[0m                                 Traceback (most recent call last)",
            "\u001b[0;32m<ipython-input-119-07dce0a50a50>\u001b[0m in \u001b[0;36m<module>\u001b[0;34m()\u001b[0m\n\u001b[0;32m----> 1\u001b[0;31m \u001b[0;36m4\u001b[0m \u001b[0;32min\u001b[0m \u001b[0;34m'4'\u001b[0m \u001b[0;31m# Runtime errors occur when the syntax is correct but ultimately can't\u001b[0m\u001b[0;34m\u001b[0m\u001b[0;34m\u001b[0m\u001b[0m\n\u001b[0m\u001b[1;32m      2\u001b[0m          \u001b[0;31m# be performed due to a mismatch between variables or objects and what\u001b[0m\u001b[0;34m\u001b[0m\u001b[0;34m\u001b[0m\u001b[0;34m\u001b[0m\u001b[0m\n\u001b[1;32m      3\u001b[0m          \u001b[0;31m# you are trying to do with them. In this case, you get a runtime error\u001b[0m\u001b[0;34m\u001b[0m\u001b[0;34m\u001b[0m\u001b[0;34m\u001b[0m\u001b[0m\n\u001b[1;32m      4\u001b[0m          \u001b[0;31m# because it can't perform the `in` operator between an int and a string.\u001b[0m\u001b[0;34m\u001b[0m\u001b[0;34m\u001b[0m\u001b[0;34m\u001b[0m\u001b[0m\n\u001b[1;32m      5\u001b[0m          \u001b[0;31m# We could verify it is a runtime error and not syntax by placing a print\u001b[0m\u001b[0;34m\u001b[0m\u001b[0;34m\u001b[0m\u001b[0;34m\u001b[0m\u001b[0m\n",
            "\u001b[0;31mTypeError\u001b[0m: 'in <string>' requires string as left operand, not int"
          ]
        }
      ]
    },
    {
      "cell_type": "code",
      "metadata": {
        "id": "b0hg_pGBk1rc",
        "colab_type": "code",
        "colab": {}
      },
      "source": [
        "# Semantic Errors\n",
        "x = 5      # Semantic Errors occur when everything runs but doesn't behave as \n",
        "if x == 6: # you expected. In this case, we can assume I wanted `x` to be printed\n",
        "  print(x) # Will never print"
      ],
      "execution_count": 0,
      "outputs": []
    }
  ]
}