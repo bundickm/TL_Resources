{
  "nbformat": 4,
  "nbformat_minor": 0,
  "metadata": {
    "colab": {
      "name": "Warmup - For Loops - Solution Notebook.ipynb",
      "provenance": [],
      "collapsed_sections": [],
      "include_colab_link": true
    },
    "kernelspec": {
      "name": "python3",
      "display_name": "Python 3"
    }
  },
  "cells": [
    {
      "cell_type": "markdown",
      "metadata": {
        "id": "view-in-github",
        "colab_type": "text"
      },
      "source": [
        "<a href=\"https://colab.research.google.com/github/bundickm/TL_Resources_and_Answer_Keys/blob/master/Warmup_Solution_Notebooks/Warmup_For_Loops_Solution_Notebook.ipynb\" target=\"_parent\"><img src=\"https://colab.research.google.com/assets/colab-badge.svg\" alt=\"Open In Colab\"/></a>"
      ]
    },
    {
      "cell_type": "markdown",
      "metadata": {
        "id": "vBnUBCBV7Jpm",
        "colab_type": "text"
      },
      "source": [
        "# For Loops"
      ]
    },
    {
      "cell_type": "markdown",
      "metadata": {
        "id": "IsnHmzfOlHGX",
        "colab_type": "text"
      },
      "source": [
        "## For Loop Practice"
      ]
    },
    {
      "cell_type": "markdown",
      "metadata": {
        "colab_type": "text",
        "id": "FjIzBDb_n--I"
      },
      "source": [
        "### Square of Stars\n",
        "Use a for loop to produce a n x n square of asterisks like the 4x4 square below. This can be done with nested for loops, but there is a way to do it with a single for loop. Assume `n` can be any positive integer, so don't just loop `print('* * * *')` 4 times.\n",
        "```\n",
        "* * * *  \n",
        "* * * *  \n",
        "* * * *  \n",
        "* * * *  \n",
        "```\n",
        "The Python `print` function normally moves to the next line after it executes. You can change this behavior by setting the `end` parameter to something other than newline(`\\n`). Reference [here.](https://www.geeksforgeeks.org/python-output-using-print-function/)"
      ]
    },
    {
      "cell_type": "code",
      "metadata": {
        "id": "7Oj__Wjj1fLM",
        "colab_type": "code",
        "outputId": "40e4cefd-0680-492d-f920-e0e86af8864a",
        "colab": {
          "base_uri": "https://localhost:8080/",
          "height": 90
        }
      },
      "source": [
        "n = 4\n",
        "for _ in range(n):\n",
        "  for __ in range(n):\n",
        "    print('*', end=' ')\n",
        "  print()"
      ],
      "execution_count": 0,
      "outputs": [
        {
          "output_type": "stream",
          "text": [
            "* * * * \n",
            "* * * * \n",
            "* * * * \n",
            "* * * * \n"
          ],
          "name": "stdout"
        }
      ]
    },
    {
      "cell_type": "code",
      "metadata": {
        "id": "VIcq6l9V3p7D",
        "colab_type": "code",
        "outputId": "5f55d964-7486-41c0-decd-e01f02b07e81",
        "colab": {
          "base_uri": "https://localhost:8080/",
          "height": 90
        }
      },
      "source": [
        "n = 4\n",
        "for _ in range(n):\n",
        "  print('* ' * n)"
      ],
      "execution_count": 0,
      "outputs": [
        {
          "output_type": "stream",
          "text": [
            "* * * * \n",
            "* * * * \n",
            "* * * * \n",
            "* * * * \n"
          ],
          "name": "stdout"
        }
      ]
    },
    {
      "cell_type": "markdown",
      "metadata": {
        "id": "fMc7Q7ADoUCp",
        "colab_type": "text"
      },
      "source": [
        "### Fizz Buzz\n",
        "Write a program which iterates over the integers from 0 to `n`. For multiples of three print \"Fizz\" instead of the number, and for the multiples of five print \"Buzz\". For numbers which are multiples of both three and five print \"FizzBuzz\". If it is not a multiple of 3 or 5, simply print the number. Once you have an answer, how can you use `continue` to make the code slightly faster?\n",
        "\n",
        "Example from 0 to 5:\n",
        "```\n",
        "fizzbuzz\n",
        "1\n",
        "2                              \n",
        "fizz                              \n",
        "4                              \n",
        "buzz\n",
        "```\n",
        "\n",
        "If you are unsure how to check if a number is odd or even in Python look into **modulo** and **floor division** later, but for now simply click [here.](https://stackoverflow.com/a/21837247)"
      ]
    },
    {
      "cell_type": "code",
      "metadata": {
        "id": "k0rmOem3phGK",
        "colab_type": "code",
        "outputId": "3a35e63d-c8d9-46fb-b7f1-219637e04139",
        "colab": {
          "base_uri": "https://localhost:8080/",
          "height": 126
        }
      },
      "source": [
        "n = 6\n",
        "for i in range(n):    # We want to look at every number between 0 and n so we use a loop and the range function\n",
        "  if (i % 15 == 0):   # Multiples of 3 and 5, a less compact way: `if (i % 5 == 0) and (i % 3 == 0):`\n",
        "    print('FizzBuzz')\n",
        "  elif (i % 5 == 0):  # Multiples of 5 but not 3, we know because otherwise the if above would execute instead\n",
        "    print('Buzz')\n",
        "  elif (i % 3 == 0):  # Multiples of 3 but not 5, we know because otherwise the if above would execute instead\n",
        "    print('Fizz')\n",
        "  else:               # Number is not divisible by 3 or 5, all if and elif's failed, so execute the else\n",
        "    print(i)"
      ],
      "execution_count": 0,
      "outputs": [
        {
          "output_type": "stream",
          "text": [
            "FizzBuzz\n",
            "1\n",
            "2\n",
            "Fizz\n",
            "4\n",
            "Buzz\n"
          ],
          "name": "stdout"
        }
      ]
    },
    {
      "cell_type": "code",
      "metadata": {
        "id": "zszc2Yh65R7w",
        "colab_type": "code",
        "outputId": "dec5c85b-829d-42ce-9d83-121ab8034de9",
        "colab": {
          "base_uri": "https://localhost:8080/",
          "height": 126
        }
      },
      "source": [
        "# Variation on the above with early termination of individual iterations if we already have what we need\n",
        "n = 6\n",
        "for i in range(n):\n",
        "  if (i % 15 == 0):\n",
        "    print('FizzBuzz')\n",
        "    continue            # No need to go further so save a bit of time and tell it to start the next iteration of the loop\n",
        "  elif (i % 5 == 0):\n",
        "    print('Buzz')\n",
        "    continue            # No need to go further so save a bit of time and tell it to start the next iteration of the loop\n",
        "  elif (i % 3 == 0):\n",
        "    print('Fizz')\n",
        "    continue            # No need to go further so save a bit of time and tell it to start the next iteration of the loop\n",
        "  print(i)              # Thanks to the continues, we can drop the else and just have print(i) execute if it is ever reached"
      ],
      "execution_count": 0,
      "outputs": [
        {
          "output_type": "stream",
          "text": [
            "FizzBuzz\n",
            "1\n",
            "2\n",
            "Fizz\n",
            "4\n",
            "Buzz\n"
          ],
          "name": "stdout"
        }
      ]
    },
    {
      "cell_type": "markdown",
      "metadata": {
        "id": "N8WmyUQ2H8ju",
        "colab_type": "text"
      },
      "source": [
        "# Debugging"
      ]
    },
    {
      "cell_type": "markdown",
      "metadata": {
        "id": "q_pUvSGu2fdR",
        "colab_type": "text"
      },
      "source": [
        "### Narrowing Down"
      ]
    },
    {
      "cell_type": "code",
      "metadata": {
        "id": "bK5A7cos2kpu",
        "colab_type": "code",
        "colab": {}
      },
      "source": [
        "# The following code has a runtime error. Use the next cell for the exercise\n",
        "# so that you can use this cell as reference if needed.\n",
        "x = 5\n",
        "x + 5\n",
        "x = x + 5\n",
        "x += 5\n",
        "5 = x\n",
        "x - 5\n",
        "x is 5\n",
        "x = x + x\n",
        "print(x)"
      ],
      "execution_count": 0,
      "outputs": []
    },
    {
      "cell_type": "code",
      "metadata": {
        "id": "J5zDV5c-3nGZ",
        "colab_type": "code",
        "colab": {}
      },
      "source": [
        "# Ignore the error message and use print debugging to narrow down the location\n",
        "# of the error.\n",
        "x = 5\n",
        "x + 5\n",
        "x = x + 5\n",
        "x += 5\n",
        "print('Debug: First Print')\n",
        "5 = x  # <-- Incorrect syntax\n",
        "print('Debug: Third Print, thanks to all 3 prints narrowing it down, we know the error is the line above')\n",
        "x - 5\n",
        "print('Debug: Second Print, we know from the first the error is in the second half')\n",
        "x is 5\n",
        "x = x + x\n",
        "print(x)"
      ],
      "execution_count": 0,
      "outputs": []
    },
    {
      "cell_type": "code",
      "metadata": {
        "id": "_U_4fxpc4JN4",
        "colab_type": "code",
        "outputId": "0bca9e4e-306a-4199-a70f-15e392e046b1",
        "colab": {
          "base_uri": "https://localhost:8080/",
          "height": 35
        }
      },
      "source": [
        "# Once you have located the error, correct the code. \n",
        "# Your final output should print '10'\n",
        "x = 5\n",
        "x + 5\n",
        "x = x + 5\n",
        "x += 5\n",
        "x = 5 # Minimal change is just to reverse the order to correct the syntax\n",
        "x - 5\n",
        "x is 5\n",
        "x = x + x\n",
        "print(x)"
      ],
      "execution_count": 0,
      "outputs": [
        {
          "output_type": "stream",
          "text": [
            "10\n"
          ],
          "name": "stdout"
        }
      ]
    },
    {
      "cell_type": "markdown",
      "metadata": {
        "id": "CiaTFdmQ2bSX",
        "colab_type": "text"
      },
      "source": [
        "### Intermediate Values"
      ]
    },
    {
      "cell_type": "code",
      "metadata": {
        "id": "TygBqysw0PuI",
        "colab_type": "code",
        "outputId": "c4628661-5a62-46cd-bb8d-d4919b311aa4",
        "colab": {
          "base_uri": "https://localhost:8080/",
          "height": 35
        }
      },
      "source": [
        "# Assume you expect this code to add up the list and print 'Welcome!' only if \n",
        "# the sum of the list is greater than 23. Use the next cell for the exercise\n",
        "# so that you can use this cell as reference if needed.\n",
        "def foo():\n",
        "  return 6\n",
        "\n",
        "x = foo()\n",
        "for i in [1, 2, 3, 4, 5, 6]:\n",
        "  x += i\n",
        "\n",
        "if x > 23:\n",
        "  print(\"Welcome!\")"
      ],
      "execution_count": 0,
      "outputs": [
        {
          "output_type": "stream",
          "text": [
            "Welcome!\n"
          ],
          "name": "stdout"
        }
      ]
    },
    {
      "cell_type": "code",
      "metadata": {
        "id": "CLWt1wQv14vT",
        "colab_type": "code",
        "outputId": "6989bb56-d035-437f-c6e6-c071b20ee5a3",
        "colab": {
          "base_uri": "https://localhost:8080/",
          "height": 417
        }
      },
      "source": [
        "# Using print debuggging, check intermediate values to figure out why this code\n",
        "# is printing 'Welcome!' when the sum of the list is only 21\n",
        "def foo():\n",
        "  return 6\n",
        "\n",
        "x = foo() # We see the problem is we started with x already at 6 and not 0\n",
        "print('Debug, x:', x, '\\n')\n",
        "for i in [1, 2, 3, 4, 5, 6]:\n",
        "  print('Debug, i:', i)\n",
        "  x += i\n",
        "  print('Debug, x = x+i:', x, '\\n')\n",
        "\n",
        "if x > 23:\n",
        "  print('Debug, x:', x)\n",
        "  print(\"Welcome!\")"
      ],
      "execution_count": 0,
      "outputs": [
        {
          "output_type": "stream",
          "text": [
            "Debug, x: 6 \n",
            "\n",
            "Debug, i: 1\n",
            "Debug, x = x+i: 7 \n",
            "\n",
            "Debug, i: 2\n",
            "Debug, x = x+i: 9 \n",
            "\n",
            "Debug, i: 3\n",
            "Debug, x = x+i: 12 \n",
            "\n",
            "Debug, i: 4\n",
            "Debug, x = x+i: 16 \n",
            "\n",
            "Debug, i: 5\n",
            "Debug, x = x+i: 21 \n",
            "\n",
            "Debug, i: 6\n",
            "Debug, x = x+i: 27 \n",
            "\n",
            "Debug, x: 27\n",
            "Welcome!\n"
          ],
          "name": "stdout"
        }
      ]
    },
    {
      "cell_type": "code",
      "metadata": {
        "id": "CwnlzEqg30BD",
        "colab_type": "code",
        "colab": {}
      },
      "source": [
        "# Once you find the error, correct the code so it does not print 'Welcome!'\n",
        "# Do not change the values in the list as your correction.\n",
        "def foo():\n",
        "  return 6 # Option 1: Change what the function returns\n",
        "\n",
        "x = foo() # Option 2: Change what gets assigned to x\n",
        "for i in [1, 2, 3, 4, 5, 6]:\n",
        "  x += i\n",
        "\n",
        "if x > 23:\n",
        "  print(\"Welcome!\")"
      ],
      "execution_count": 0,
      "outputs": []
    },
    {
      "cell_type": "code",
      "metadata": {
        "id": "mN9bM02H85TN",
        "colab_type": "code",
        "colab": {}
      },
      "source": [
        "# Once you find the error, correct the code so it does not print 'Welcome!'\n",
        "# Do not change the values in the list as your correction.\n",
        "def foo():\n",
        "  return 6\n",
        "\n",
        "x = 0 # Change ensures the summation starts at 0 and 'Welcome!' never prints\n",
        "for i in [1, 2, 3, 4, 5, 6]:\n",
        "  x += i\n",
        "\n",
        "if x > 23:\n",
        "  print(\"Welcome!\")"
      ],
      "execution_count": 0,
      "outputs": []
    }
  ]
}